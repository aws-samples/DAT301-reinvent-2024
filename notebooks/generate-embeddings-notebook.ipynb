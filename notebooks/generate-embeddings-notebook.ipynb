{
 "cells": [
  {
   "cell_type": "markdown",
   "metadata": {},
   "source": [
    "# Generate Embeddings using Amazon Bedrock\n",
    "\n",
    "This notebook generates embeddings for product descriptions using Amazon Bedrock's Titan Text Embeddings model."
   ]
  },
  {
   "cell_type": "markdown",
   "metadata": {},
   "source": [
    "## Import Required Libraries"
   ]
  },
  {
   "cell_type": "code",
   "execution_count": null,
   "metadata": {},
   "outputs": [],
   "source": [
    "import boto3\n",
    "import json\n",
    "import pandas as pd\n",
    "import numpy as np\n",
    "from concurrent.futures import ThreadPoolExecutor\n",
    "from tqdm import tqdm"
   ]
  },
  {
   "cell_type": "markdown",
   "metadata": {},
   "source": [
    "## Initialize Bedrock Client"
   ]
  },
  {
   "cell_type": "code",
   "execution_count": null,
   "metadata": {},
   "outputs": [],
   "source": [
    "# Initialize Bedrock client\n",
    "bedrock = boto3.client('bedrock-runtime')"
   ]
  },
  {
   "cell_type": "markdown",
   "metadata": {},
   "source": [
    "## Define Embedding Functions"
   ]
  },
  {
   "cell_type": "code",
   "execution_count": null,
   "metadata": {},
   "outputs": [],
   "source": [
    "# Function to get embedding for a single text\n",
    "def get_embedding(text):\n",
    "    try:\n",
    "        response = bedrock.invoke_model(\n",
    "            modelId=\"amazon.titan-embed-text-v2:0\",\n",
    "            contentType=\"application/json\",\n",
    "            accept=\"application/json\",\n",
    "            body=json.dumps({\"inputText\": text})\n",
    "        )\n",
    "        # Read the StreamingBody object\n",
    "        response_body = json.loads(response['body'].read())\n",
    "        embedding = response_body['embedding']\n",
    "        return embedding\n",
    "    except Exception as e:\n",
    "        print(f\"Error generating embedding for text: {text[:50]}...\")\n",
    "        print(f\"Error message: {str(e)}\")\n",
    "        return None\n",
    "\n",
    "# Parallel processing approach\n",
    "def generate_embeddings_parallel(df, max_workers=50):\n",
    "    with ThreadPoolExecutor(max_workers=max_workers) as executor:\n",
    "        embeddings = list(tqdm(executor.map(get_embedding, df['product_description']), total=len(df)))\n",
    "    df['embedding'] = embeddings\n",
    "    return df"
   ]
  },
  {
   "cell_type": "markdown",
   "metadata": {},
   "source": [
    "## Load and Process Data"
   ]
  },
  {
   "cell_type": "code",
   "execution_count": null,
   "metadata": {},
   "outputs": [],
   "source": [
    "# Load your data\n",
    "df = pd.read_csv('datasets/top_bottom_100_products_non_zero_non_five_stars.csv')\n",
    "print(f\"Loaded {len(df)} products\")"
   ]
  },
  {
   "cell_type": "markdown",
   "metadata": {},
   "source": [
    "## Generate Embeddings"
   ]
  },
  {
   "cell_type": "code",
   "execution_count": null,
   "metadata": {},
   "outputs": [],
   "source": [
    "# Generate embeddings\n",
    "df_with_embeddings = generate_embeddings_parallel(df)\n",
    "\n",
    "# Remove rows where embedding generation failed\n",
    "df_with_embeddings = df_with_embeddings.dropna(subset=['embedding'])"
   ]
  },
  {
   "cell_type": "markdown",
   "metadata": {},
   "source": [
    "## Save Results"
   ]
  },
  {
   "cell_type": "code",
   "execution_count": null,
   "metadata": {},
   "outputs": [],
   "source": [
    "# Save the results\n",
    "output_file = 'datasets/top_bottom_100_products_non_zero_non_five_stars_embeddings_1024.csv'\n",
    "df_with_embeddings.to_csv(output_file, index=False)\n",
    "\n",
    "print(f\"Processed {len(df_with_embeddings)} products.\")\n",
    "print(f\"Results saved to '{output_file}'\")"
   ]
  }
 ],
 "metadata": {
  "kernelspec": {
   "display_name": "Python 3 (ipykernel)",
   "language": "python",
   "name": "python3"
  },
  "language_info": {
   "codemirror_mode": {
    "name": "ipython",
    "version": 3
   },
   "file_extension": ".py",
   "mimetype": "text/x-python",
   "name": "python",
   "nbconvert_exporter": "python",
   "pygments_lexer": "ipython3",
   "version": "3.11.0"
  }
 },
 "nbformat": 4,
 "nbformat_minor": 4
}
